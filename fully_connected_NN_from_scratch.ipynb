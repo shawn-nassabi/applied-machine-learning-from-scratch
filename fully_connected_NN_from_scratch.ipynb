{
 "cells": [
  {
   "cell_type": "markdown",
   "id": "2da9f19c-a2d9-41d0-b046-ebc92fdbd105",
   "metadata": {},
   "source": [
    "# Lab 5, Fully Connected Neural Networks, By Shawn Nassabi"
   ]
  },
  {
   "cell_type": "code",
   "execution_count": 2,
   "id": "fd95c4d9-caf1-41a1-b885-1b17ba67ad78",
   "metadata": {},
   "outputs": [
    {
     "name": "stdout",
     "output_type": "stream",
     "text": [
      "Done\n"
     ]
    }
   ],
   "source": [
    "from sklearn.datasets import load_digits #import the dataset\n",
    "import matplotlib.pyplot as plt\n",
    "import numpy as np\n",
    "import pandas as pd\n",
    "from sklearn.model_selection import train_test_split\n",
    "from sklearn.preprocessing import StandardScaler\n",
    "from sklearn.metrics import accuracy_score\n",
    "print(\"Done\")"
   ]
  },
  {
   "cell_type": "markdown",
   "id": "81f2f2e4-d4bf-4393-b353-eb5062ad3c8a",
   "metadata": {},
   "source": [
    "## Loading, visualizing, scaling dataset, and splitting dataset into train test splits:"
   ]
  },
  {
   "cell_type": "code",
   "execution_count": 15,
   "id": "1967050b-e3e4-4eb7-9f15-cdec2a194213",
   "metadata": {},
   "outputs": [
    {
     "name": "stdout",
     "output_type": "stream",
     "text": [
      "(1797, 64)\n",
      "(1797, 1)\n"
     ]
    }
   ],
   "source": [
    "digits = load_digits()\n",
    "X = digits.data\n",
    "Y = digits.target.reshape(-1,1)\n",
    "print(X.shape)\n",
    "print(Y.shape)"
   ]
  },
  {
   "cell_type": "code",
   "execution_count": 22,
   "id": "11fe816b-c4d9-4ae9-8f70-b4217ac85f77",
   "metadata": {},
   "outputs": [
    {
     "data": {
      "image/png": "[encoded data removed]",
      "text/plain": [
       "<Figure size 800x800 with 10 Axes>"
      ]
     },
     "metadata": {},
     "output_type": "display_data"
    }
   ],
   "source": [
    "# Visualize some sample images\n",
    "plt.figure(figsize=(8, 8))\n",
    "for i in range(10):\n",
    "    plt.subplot(2, 5, i + 1)\n",
    "    plt.imshow(X[i].reshape(8, 8), cmap='gray')\n",
    "    plt.title(f\"Label: {Y[i][0]}\")\n",
    "    plt.axis('off')\n",
    "plt.show()\n",
    "\n",
    "# Split the dataset into training and testing sets\n",
    "X_train, X_test, Y_train, Y_test = train_test_split(X, Y, test_size=0.2, random_state=42)\n",
    "\n",
    "# For normalizing the data\n",
    "scaler = StandardScaler()\n",
    "X_train = scaler.fit_transform(X_train)\n",
    "X_test = scaler.transform(X_test)"
   ]
  },
  {
   "cell_type": "code",
   "execution_count": 25,
   "id": "e2f18e21-b21a-4d38-a0df-52f995f84647",
   "metadata": {},
   "outputs": [
    {
     "name": "stdout",
     "output_type": "stream",
     "text": [
      "(1437, 64)\n",
      "(360, 64)\n",
      "(1437, 1)\n",
      "(360, 1)\n"
     ]
    }
   ],
   "source": [
    "print(X_train.shape) \n",
    "print(X_test.shape)\n",
    "print(Y_train.shape)\n",
    "print(Y_test.shape)"
   ]
  },
  {
   "cell_type": "markdown",
   "id": "f3faa32b-ea41-4523-beed-e50a5fc4f879",
   "metadata": {},
   "source": [
    "## One hot encoding to targets:"
   ]
  },
  {
   "cell_type": "code",
   "execution_count": 27,
   "id": "1835ee6c-6408-4795-ad3f-6154f4b82bf6",
   "metadata": {},
   "outputs": [
    {
     "name": "stdout",
     "output_type": "stream",
     "text": [
      "(1437, 10)\n",
      "(360, 10)\n"
     ]
    }
   ],
   "source": [
    "def one_hot_encoding(labels, num_classes):\n",
    "    length = len(labels)\n",
    "    array = np.zeros((length, num_classes))\n",
    "    for i, l in enumerate(labels):\n",
    "        array[i, l] = 1\n",
    "    return array\n",
    "# One hot encoded Y labels:\n",
    "Y_train_onehot = one_hot_encoding(Y_train, 10)\n",
    "Y_test_onehot = one_hot_encoding(Y_test, 10)\n",
    "print(Y_train_onehot.shape)\n",
    "print(Y_test_onehot.shape)"
   ]
  },
  {
   "cell_type": "markdown",
   "id": "1fae4f55-89c2-44f7-a1ce-463389800e57",
   "metadata": {},
   "source": [
    "## Neural Network with Relu:"
   ]
  },
  {
   "cell_type": "code",
   "execution_count": 41,
   "id": "6ca58b71-7257-4b03-9acb-56644bbea1b3",
   "metadata": {},
   "outputs": [],
   "source": [
    "class NeuralNetwork_Relu:\n",
    "    def __init__(self, input_size, hidden_size, output_size):\n",
    "        np.random.seed(42)\n",
    "        # Initialize weights with random values from a normal distribution\n",
    "        self.W1 = np.random.randn(input_size, hidden_size) * 0.01\n",
    "        self.W2 = np.random.randn(hidden_size, output_size) * 0.01\n",
    "        # Initialize biases to zeros\n",
    "        self.b1 = np.zeros((1, hidden_size))\n",
    "        self.b2 = np.zeros((1, output_size))\n",
    "        \n",
    "\n",
    "    # Relu activation function\n",
    "    def relu(self, input):\n",
    "        A = np.maximum(0,input)\n",
    "        return A\n",
    "\n",
    "    def relu_deriv(self, input):\n",
    "        dZ = np.where(input > 0, 1, 0)\n",
    "        return dZ\n",
    "\n",
    "    def forward_pass(self, X):\n",
    "        Z1 = np.dot(X, self.W1) + self.b1\n",
    "        A1 = self.relu(Z1)\n",
    "\n",
    "        Z2 = np.dot(A1, self.W2) + self.b2\n",
    "        A2 = self.relu(Z2)\n",
    "\n",
    "        return Z1, A1, Z2, A2\n",
    "\n",
    "    def backward_pass(self, X, Y, Z1, A1, Z2, A2, lRate):\n",
    "\n",
    "        m = X.shape[0]\n",
    "        \n",
    "        # Update W2\n",
    "        dE_dYhat = 2*(A2 - Y)\n",
    "        dYhat_dZ2 = self.relu_deriv(Z2)\n",
    "        dZ2 = dE_dYhat * dYhat_dZ2\n",
    "        dW2 = np.dot(A1.T, dZ2) / m\n",
    "\n",
    "        self.W2 -= lRate * dW2\n",
    "\n",
    "        # Update b2 TODO\n",
    "        db2 = np.sum(dZ2, axis=0, keepdims=True) / m\n",
    "        self.b2 -= lRate * db2 \n",
    "\n",
    "        # Update W1\n",
    "        dA1 = np.dot(dZ2, self.W2.T)\n",
    "        dZ1 = dA1 * self.relu_deriv(Z1)\n",
    "        dW1 = np.dot(X.T, dZ1) / m\n",
    "\n",
    "        self.W1 -= lRate * dW1\n",
    "\n",
    "        # Update b1\n",
    "        #db1 = np.dot((np.dot(dE_dYhat, dYhat_dZ2) @ self.W2.T), self.relu_deriv(self.Z1))\n",
    "        db1 = np.sum(dZ1, axis=0, keepdims=True) / m\n",
    "        self.b1 -= lRate * db1\n",
    "\n",
    "        \n",
    "    def train(self, X, Y, lRate, epochs):\n",
    "        for e in range(epochs):\n",
    "            Z1, A1, Z2, A2 = self.forward_pass(X)\n",
    "            self.backward_pass(X, Y, Z1, A1, Z2, A2, lRate)\n",
    "\n",
    "    def predict(self, X_test):\n",
    "        Z1, A1, Z2, A2 = self.forward_pass(X_test)\n",
    "        return A2\n",
    "\n",
    "    def get_loss(self, A2, Y):\n",
    "        m = Y.shape[0]\n",
    "        loss = np.sum((A2 - Y) ** 2) / (2 * m)\n",
    "        return loss\n",
    "        "
   ]
  },
  {
   "cell_type": "code",
   "execution_count": 42,
   "id": "c164f7f0-0a63-4bf9-9658-2d624fd31575",
   "metadata": {},
   "outputs": [],
   "source": [
    "NN = NeuralNetwork_Relu(64, 30, 10)"
   ]
  },
  {
   "cell_type": "code",
   "execution_count": 90,
   "id": "7ed6015e-12bb-4310-a5a6-d5d0ea04f352",
   "metadata": {},
   "outputs": [
    {
     "name": "stdout",
     "output_type": "stream",
     "text": [
      "Done\n"
     ]
    }
   ],
   "source": [
    "LRATE = 0.02\n",
    "EPOCHS = 500\n",
    "\n",
    "NN.train(X_train, Y_train_onehot, LRATE, EPOCHS)\n",
    "print(\"Done\")"
   ]
  },
  {
   "cell_type": "code",
   "execution_count": 91,
   "id": "4ed412e1-0df3-4dae-9885-955f0cf0b7fd",
   "metadata": {},
   "outputs": [
    {
     "name": "stdout",
     "output_type": "stream",
     "text": [
      "Test loss: 0.09062281049674714\n"
     ]
    }
   ],
   "source": [
    "predictions = NN.predict(X_test)\n",
    "test_loss = NN.get_loss(predictions, Y_test_onehot)\n",
    "print(\"Test loss:\", test_loss)"
   ]
  },
  {
   "cell_type": "markdown",
   "id": "c1cb1ddc-b32f-4101-8ac4-251af8d28be8",
   "metadata": {},
   "source": [
    "## Neural Network with Sigmoid:"
   ]
  },
  {
   "cell_type": "code",
   "execution_count": 58,
   "id": "d1673540-b330-41a1-a7f5-0ee9b5920b23",
   "metadata": {},
   "outputs": [],
   "source": [
    "class NeuralNetwork_Sigmoid:\n",
    "    def __init__(self, input_size, hidden_size, output_size):\n",
    "        np.random.seed(42)\n",
    "        # Initialize weights with random values from a normal distribution\n",
    "        self.W1 = np.random.randn(input_size, hidden_size) * 0.01\n",
    "        self.W2 = np.random.randn(hidden_size, output_size) * 0.01\n",
    "        # Initialize biases to zeros\n",
    "        self.b1 = np.zeros((1, hidden_size))\n",
    "        self.b2 = np.zeros((1, output_size))\n",
    "        \n",
    "\n",
    "    # Sigmoid activation function\n",
    "    def sigmoid(self, input):\n",
    "        return 1 / (1 + np.exp(-input))\n",
    "\n",
    "    def sigmoid_deriv(self, input):\n",
    "        return input * (1 - input)\n",
    "\n",
    "    def forward_pass(self, X):\n",
    "        Z1 = np.dot(X, self.W1) + self.b1\n",
    "        A1 = self.sigmoid(Z1)\n",
    "\n",
    "        Z2 = np.dot(A1, self.W2) + self.b2\n",
    "        A2 = self.sigmoid(Z2)\n",
    "\n",
    "        return Z1, A1, Z2, A2\n",
    "\n",
    "    def backward_pass(self, X, Y, Z1, A1, Z2, A2, lRate):\n",
    "\n",
    "        m = X.shape[0]\n",
    "        \n",
    "        # Update W2\n",
    "        dE_dYhat = 2*(A2 - Y)\n",
    "        dYhat_dZ2 = self.sigmoid_deriv(Z2)\n",
    "        dZ2 = dE_dYhat * dYhat_dZ2\n",
    "        dW2 = np.dot(A1.T, dZ2) / m\n",
    "\n",
    "        self.W2 -= lRate * dW2\n",
    "\n",
    "        # Update b2 TODO\n",
    "        db2 = np.sum(dZ2, axis=0, keepdims=True) / m\n",
    "        self.b2 -= lRate * db2 \n",
    "\n",
    "        # Update W1\n",
    "        dA1 = np.dot(dZ2, self.W2.T)\n",
    "        dZ1 = dA1 * self.sigmoid_deriv(Z1)\n",
    "        dW1 = np.dot(X.T, dZ1) / m\n",
    "\n",
    "        self.W1 -= lRate * dW1\n",
    "\n",
    "        # Update b1\n",
    "        #db1 = np.dot((np.dot(dE_dYhat, dYhat_dZ2) @ self.W2.T), self.relu_deriv(self.Z1))\n",
    "        db1 = np.sum(dZ1, axis=0, keepdims=True) / m\n",
    "        self.b1 -= lRate * db1\n",
    "\n",
    "        \n",
    "    def train(self, X, Y, lRate, epochs):\n",
    "        for e in range(epochs):\n",
    "            Z1, A1, Z2, A2 = self.forward_pass(X)\n",
    "            self.backward_pass(X, Y, Z1, A1, Z2, A2, lRate)\n",
    "\n",
    "    def predict(self, X_test):\n",
    "        Z1, A1, Z2, A2 = self.forward_pass(X_test)\n",
    "        return A2\n",
    "\n",
    "    def get_loss(self, A2, Y):\n",
    "        m = Y.shape[0]\n",
    "        loss = np.sum((A2 - Y) ** 2) / (2 * m)\n",
    "        return loss\n",
    "        "
   ]
  },
  {
   "cell_type": "code",
   "execution_count": 68,
   "id": "fcfc763c-4d34-4d8b-99eb-78c66338c415",
   "metadata": {},
   "outputs": [
    {
     "name": "stdout",
     "output_type": "stream",
     "text": [
      "Done\n"
     ]
    }
   ],
   "source": [
    "NN = NeuralNetwork_Sigmoid(64, 30, 10)\n",
    "LRATE = 0.02\n",
    "EPOCHS = 1000\n",
    "\n",
    "NN.train(X_train, Y_train_onehot, LRATE, EPOCHS)\n",
    "print(\"Done\")"
   ]
  },
  {
   "cell_type": "code",
   "execution_count": 69,
   "id": "5654516e-5a3e-4fc9-b7f7-0cb505b22909",
   "metadata": {},
   "outputs": [
    {
     "name": "stdout",
     "output_type": "stream",
     "text": [
      "Test loss: 1.249971903050273\n"
     ]
    }
   ],
   "source": [
    "predictions = NN.predict(X_test)\n",
    "test_loss = NN.get_loss(predictions, Y_test_onehot)\n",
    "print(\"Test loss:\", test_loss)"
   ]
  },
  {
   "cell_type": "markdown",
   "id": "aa10fdc2-e6ef-49c3-93e9-fdb050490a56",
   "metadata": {},
   "source": [
    "## Neural Network with Tanh:"
   ]
  },
  {
   "cell_type": "code",
   "execution_count": 64,
   "id": "f7eb23bf-5be2-4bea-aa89-a6ce61227973",
   "metadata": {},
   "outputs": [],
   "source": [
    "class NeuralNetwork_Tanh:\n",
    "    def __init__(self, input_size, hidden_size, output_size):\n",
    "        np.random.seed(42)\n",
    "        # Initialize weights with random values from a normal distribution\n",
    "        self.W1 = np.random.randn(input_size, hidden_size) * 0.01\n",
    "        self.W2 = np.random.randn(hidden_size, output_size) * 0.01\n",
    "        # Initialize biases to zeros\n",
    "        self.b1 = np.zeros((1, hidden_size))\n",
    "        self.b2 = np.zeros((1, output_size))\n",
    "        \n",
    "\n",
    "    # Tanh activation function\n",
    "    def tanh(self, input):\n",
    "        return np.tanh(input)\n",
    "\n",
    "    def tanh_deriv(self, input):\n",
    "        return 1 - np.square(np.tanh(input))\n",
    "\n",
    "    def forward_pass(self, X):\n",
    "        Z1 = np.dot(X, self.W1) + self.b1\n",
    "        A1 = self.tanh(Z1)\n",
    "\n",
    "        Z2 = np.dot(A1, self.W2) + self.b2\n",
    "        A2 = self.tanh(Z2)\n",
    "\n",
    "        return Z1, A1, Z2, A2\n",
    "\n",
    "    def backward_pass(self, X, Y, Z1, A1, Z2, A2, lRate):\n",
    "\n",
    "        m = X.shape[0]\n",
    "        \n",
    "        # Update W2\n",
    "        dE_dYhat = 2*(A2 - Y)\n",
    "        dYhat_dZ2 = self.tanh_deriv(Z2)\n",
    "        dZ2 = dE_dYhat * dYhat_dZ2\n",
    "        dW2 = np.dot(A1.T, dZ2) / m\n",
    "\n",
    "        self.W2 -= lRate * dW2\n",
    "\n",
    "        # Update b2 TODO\n",
    "        db2 = np.sum(dZ2, axis=0, keepdims=True) / m\n",
    "        self.b2 -= lRate * db2 \n",
    "\n",
    "        # Update W1\n",
    "        dA1 = np.dot(dZ2, self.W2.T)\n",
    "        dZ1 = dA1 * self.tanh_deriv(Z1)\n",
    "        dW1 = np.dot(X.T, dZ1) / m\n",
    "\n",
    "        self.W1 -= lRate * dW1\n",
    "\n",
    "        # Update b1\n",
    "        #db1 = np.dot((np.dot(dE_dYhat, dYhat_dZ2) @ self.W2.T), self.relu_deriv(self.Z1))\n",
    "        db1 = np.sum(dZ1, axis=0, keepdims=True) / m\n",
    "        self.b1 -= lRate * db1\n",
    "\n",
    "        \n",
    "    def train(self, X, Y, lRate, epochs):\n",
    "        for e in range(epochs):\n",
    "            Z1, A1, Z2, A2 = self.forward_pass(X)\n",
    "            self.backward_pass(X, Y, Z1, A1, Z2, A2, lRate)\n",
    "\n",
    "    def predict(self, X_test):\n",
    "        Z1, A1, Z2, A2 = self.forward_pass(X_test)\n",
    "        return A2\n",
    "\n",
    "    def get_loss(self, A2, Y):\n",
    "        m = Y.shape[0]\n",
    "        loss = np.sum((A2 - Y) ** 2) / (2 * m)\n",
    "        return loss\n",
    "        "
   ]
  },
  {
   "cell_type": "code",
   "execution_count": 70,
   "id": "a9a8afcc-ffc1-4e36-8adc-4d8bc0c4ff26",
   "metadata": {},
   "outputs": [
    {
     "name": "stdout",
     "output_type": "stream",
     "text": [
      "Done\n"
     ]
    }
   ],
   "source": [
    "NN = NeuralNetwork_Tanh(64, 30, 10)\n",
    "LRATE = 0.02\n",
    "EPOCHS = 1000\n",
    "\n",
    "NN.train(X_train, Y_train_onehot, LRATE, EPOCHS)\n",
    "print(\"Done\")"
   ]
  },
  {
   "cell_type": "code",
   "execution_count": 71,
   "id": "cf1851b3-8900-497d-ae51-d44262fe53b7",
   "metadata": {},
   "outputs": [
    {
     "name": "stdout",
     "output_type": "stream",
     "text": [
      "Test loss: 0.17659693967753934\n"
     ]
    }
   ],
   "source": [
    "predictions = NN.predict(X_test)\n",
    "test_loss = NN.get_loss(predictions, Y_test_onehot)\n",
    "print(\"Test loss:\", test_loss)"
   ]
  },
  {
   "cell_type": "code",
   "execution_count": null,
   "id": "0d8d52cc-3e37-40da-9fbf-0a7f16dfb272",
   "metadata": {},
   "outputs": [],
   "source": []
  }
 ],
 "metadata": {
  "kernelspec": {
   "display_name": "Python 3 (ipykernel)",
   "language": "python",
   "name": "python3"
  },
  "language_info": {
   "codemirror_mode": {
    "name": "ipython",
    "version": 3
   },
   "file_extension": ".py",
   "mimetype": "text/x-python",
   "name": "python",
   "nbconvert_exporter": "python",
   "pygments_lexer": "ipython3",
   "version": "3.8.3"
  }
 },
 "nbformat": 4,
 "nbformat_minor": 5
}

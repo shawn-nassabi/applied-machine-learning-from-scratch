{
 "cells": [
  {
   "cell_type": "code",
   "execution_count": 14,
   "id": "19599d84-aaf5-4e8d-a792-75c76da803a9",
   "metadata": {},
   "outputs": [],
   "source": [
    "from __future__ import division\n",
    "\n",
    "import warnings\n",
    "from collections import namedtuple\n",
    "import torch\n",
    "import torch.nn as nn\n",
    "from torch.jit.annotations import Optional, Tuple\n",
    "from torch import Tensor\n",
    "import os\n",
    "import numpy as np\n",
    "import os.path\n",
    "from glob import glob\n",
    "from PIL import Image\n",
    "from tqdm import tqdm\n",
    "import torchvision.datasets as dset\n",
    "import torch.utils.data as data\n",
    "from ipywidgets import IntProgress\n",
    "from torchvision import transforms"
   ]
  },
  {
   "cell_type": "code",
   "execution_count": 15,
   "id": "b391002b-7f30-4466-aa0b-64f77f4905da",
   "metadata": {},
   "outputs": [
    {
     "name": "stdout",
     "output_type": "stream",
     "text": [
      "cuda\n"
     ]
    }
   ],
   "source": [
    "import torch\n",
    "\n",
    "if torch.cuda.is_available():\n",
    "    device = torch.device('cuda')\n",
    "else:\n",
    "    device = 'cpu'\n",
    "\n",
    "print(device)"
   ]
  },
  {
   "cell_type": "markdown",
   "id": "d8229cac-73ee-47d4-bd43-42229ba50476",
   "metadata": {},
   "source": [
    "## Hyperparameters"
   ]
  },
  {
   "cell_type": "code",
   "execution_count": 16,
   "id": "0db65730-21ff-4a37-ab75-7d376cf2af9c",
   "metadata": {},
   "outputs": [],
   "source": [
    "LRATE = 0.01\n",
    "EPOCHS = 50\n",
    "trainBatchSize = 20\n",
    "testBatchSize = 20"
   ]
  },
  {
   "cell_type": "markdown",
   "id": "aac44910-add3-4ab8-837f-f4f7431b36f9",
   "metadata": {},
   "source": [
    "## Image Processing"
   ]
  },
  {
   "cell_type": "code",
   "execution_count": 17,
   "id": "27fb93db-63b0-4ea4-bb7a-f8962cb17007",
   "metadata": {},
   "outputs": [],
   "source": [
    "train_transform = transforms.Compose([transforms.RandomHorizontalFlip(), transforms.ToTensor()])\n",
    "test_transform = transforms.Compose([transforms.ToTensor()])"
   ]
  },
  {
   "cell_type": "markdown",
   "id": "72582ebe-a1a7-4551-8747-d423df23fcc8",
   "metadata": {},
   "source": [
    "## Download and prepare data with transforms"
   ]
  },
  {
   "cell_type": "code",
   "execution_count": 18,
   "id": "249e0d11-df01-49a7-8eb5-4e565e703bc5",
   "metadata": {},
   "outputs": [
    {
     "name": "stdout",
     "output_type": "stream",
     "text": [
      "Files already downloaded and verified\n",
      "Files already downloaded and verified\n"
     ]
    }
   ],
   "source": [
    "train_set = dset.CIFAR10(root='./data', train=True, download=True, transform=train_transform)\n",
    "train_loader = data.DataLoader(dataset=train_set, batch_size=trainBatchSize, shuffle=True)\n",
    "test_set = dset.CIFAR10(root='./data', train=False, download=True, transform=test_transform)\n",
    "test_loader = data.DataLoader(dataset=test_set, batch_size=testBatchSize, shuffle=False)"
   ]
  },
  {
   "cell_type": "markdown",
   "id": "f580534b-aa04-4d5c-8488-1e2cf58493b7",
   "metadata": {},
   "source": [
    "## Inception module with dimension reductions\n",
    "1. Create a python class called Inception which inherits nn.module\n",
    "\n",
    "2. Create a init function to init this python class\n",
    "    1. Require in_planes, kernel_1_x, kernel_3_in, kernel_3_x, kernel_5_in, kernel_5_x and pool_planes 7 arguments.\n",
    "    \n",
    "    2. There are 4 Sequential blocks: b1,b2,b3,b4\n",
    "    \n",
    "    3. b1 is a block that consists of 2D convolution, a 2D batch normalization layer and a ReLU activation function\n",
    "    \n",
    "    4. b2 is a block that consists of two 2D convolutions, two 2D batch normalization layers and two ReLU activation functions\n",
    "    \n",
    "    5. b3 is a block that consists of two 2D convolutions, two 2D batch normalization layers and two ReLU activation functions\n",
    "    \n",
    "    6. b4 is a block consists of a Maxpooling layer, a 2D convolution, a 2D batch normalization layer and a ReLU activation function\n",
    "    \n",
    "3. Create the forward function: the forward function will forward the input function though every block and return the concatenation of all the output."
   ]
  },
  {
   "cell_type": "code",
   "execution_count": 19,
   "id": "688a2306-a354-4107-8436-e86c0d6c0677",
   "metadata": {},
   "outputs": [],
   "source": [
    "class Inception(nn.Module):\n",
    "    def __init__(self, in_planes, kernel_1_x, kernel_3_in, kernel_3_x, kernel_5_in, kernel_5_x, pool_planes):\n",
    "        super(Inception, self).__init__()\n",
    "        # 1x1 conv branch\n",
    "        self.b1 = nn.Sequential(\n",
    "            nn.Conv2d(in_planes, kernel_1_x, kernel_size=1),\n",
    "            nn.BatchNorm2d(kernel_1_x),\n",
    "            nn.ReLU(True),\n",
    "        )\n",
    "\n",
    "        # 1x1 conv -> 3x3 conv branch\n",
    "        self.b2 = nn.Sequential(\n",
    "            nn.Conv2d(in_planes, kernel_3_in, kernel_size=1),\n",
    "            nn.BatchNorm2d(kernel_3_in),\n",
    "            nn.ReLU(True),\n",
    "            nn.Conv2d(kernel_3_in, kernel_3_x, kernel_size=3, padding=1),\n",
    "            nn.BatchNorm2d(kernel_3_x),\n",
    "            nn.ReLU(True)\n",
    "        )\n",
    "\n",
    "\n",
    "        # 1x1 conv -> 5x5 conv branch\n",
    "        self.b3 = nn.Sequential(\n",
    "            nn.Conv2d(in_planes, kernel_5_in, kernel_size=1),\n",
    "            nn.BatchNorm2d(kernel_5_in),\n",
    "            nn.ReLU(True),\n",
    "            nn.Conv2d(kernel_5_in, kernel_5_x, kernel_size=5, padding=2),\n",
    "            nn.BatchNorm2d(kernel_5_x),\n",
    "            nn.ReLU(True),\n",
    "        )\n",
    "         \n",
    "\n",
    "        # 3x3 max pool -> 1x1 conv branch\n",
    "        self.b4 = nn.Sequential(\n",
    "            nn.MaxPool2d(3, padding=1, stride=1),\n",
    "            nn.Conv2d(in_planes, pool_planes, kernel_size=1),\n",
    "            nn.BatchNorm2d(pool_planes),\n",
    "            nn.ReLU(True)\n",
    "        )\n",
    "       \n",
    "\n",
    "    def forward(self, x):\n",
    "        out1 = self.b1(x)\n",
    "        out2 = self.b2(x)\n",
    "        out3 = self.b3(x)\n",
    "        out4 = self.b4(x)\n",
    "        return torch.cat([out1, out2, out3, out4], dim=1)"
   ]
  },
  {
   "cell_type": "markdown",
   "id": "a3fc4fcd-119a-4668-9b1b-d02ff9ab15bb",
   "metadata": {},
   "source": [
    "## GoogLeNet"
   ]
  },
  {
   "cell_type": "code",
   "execution_count": 20,
   "id": "971d52bf-debf-4997-8f31-12ea6339aaff",
   "metadata": {},
   "outputs": [],
   "source": [
    "class GoogLeNet(nn.Module):\n",
    "    def __init__(self, n_classes):\n",
    "        super(GoogLeNet, self).__init__()\n",
    "\n",
    "        # 7x7 Conv -> MaxPool -> 3x3 Conv -> MaxPool\n",
    "        self.b1 = nn.Sequential(\n",
    "            nn.Conv2d(3, 192, padding=1, kernel_size=3),\n",
    "            nn.BatchNorm2d(192),\n",
    "            nn.ReLU(True),\n",
    "            # nn.MaxPool2d(kernel_size=3, padding=1, stride=2),\n",
    "            # nn.Conv2d(64, 192, padding=1, kernel_size=3, stride=1),\n",
    "            # nn.BatchNorm2d(192),\n",
    "            # nn.ReLU(True),\n",
    "            # nn.MaxPool2d(kernel_size=3, padding=1, stride=2)\n",
    "        )\n",
    "\n",
    "        # 2 inceptions\n",
    "        self.inception3a = Inception(192, 64, 96, 128, 16, 32, 32)\n",
    "        self.inception3b = Inception(256, 128, 128, 192, 32, 96, 64)\n",
    "\n",
    "        # MaxPool\n",
    "        self.b2 = nn.Sequential(\n",
    "            nn.MaxPool2d(kernel_size=3, padding=1, stride=2)\n",
    "        )\n",
    "\n",
    "        # 5 inceptions\n",
    "        self.inception4a = Inception(480, 192, 96, 208, 16, 48, 64)\n",
    "        self.inception4b = Inception(512, 160, 112, 224, 24, 64, 64)\n",
    "        self.inception4c = Inception(512, 128, 128, 256, 24, 64, 64)\n",
    "        self.inception4d = Inception(512, 112, 144, 288, 32, 64, 64)\n",
    "        self.inception4e = Inception(528, 256, 160, 320, 32, 128, 128)\n",
    "\n",
    "        # MaxPool\n",
    "        self.b3 = nn.Sequential(\n",
    "            nn.MaxPool2d(kernel_size=3, padding=1, stride=2)\n",
    "        )\n",
    "\n",
    "        # 2 inceptions\n",
    "        self.inception5a = Inception(832, 256, 160, 320, 32, 128, 128)\n",
    "        self.inception5b = Inception(832, 384, 192, 384, 48, 128, 128)\n",
    "\n",
    "        # avg pool\n",
    "        self.b4 = nn.Sequential(\n",
    "            nn.AvgPool2d(kernel_size=8, stride=1, padding=0)\n",
    "        )\n",
    "\n",
    "        # dropout(40%)\n",
    "        self.dropout = nn.Dropout(0.4)\n",
    "        \n",
    "        # linear fully connected layer\n",
    "        self.fc = nn.Linear(1024, n_classes)\n",
    "        \n",
    "        # softmax\n",
    "        self.softmax = nn.Softmax(dim=1)\n",
    "\n",
    "    def forward(self, x):\n",
    "        #print(\"Shape initially:\", x.shape)\n",
    "        x = self.b1(x)\n",
    "        #print(\"Shape before 3a:\", x.shape)\n",
    "        # Inception modules 3\n",
    "        x = self.inception3a(x)\n",
    "        x = self.inception3b(x)\n",
    "\n",
    "        #print(\"Shape before b2:\", x.shape)\n",
    "        x = self.b2(x)\n",
    "\n",
    "        #print(\"Shape before 4a:\", x.shape)\n",
    "        # Inception modules 4\n",
    "        x = self.inception4a(x)\n",
    "        x = self.inception4b(x)\n",
    "        x = self.inception4c(x)\n",
    "        x = self.inception4d(x)\n",
    "        x = self.inception4e(x)\n",
    "\n",
    "        #print(\"Shape before b3:\", x.shape)\n",
    "        x = self.b3(x)\n",
    "\n",
    "        #print(\"Shape before 5a:\", x.shape)\n",
    "        # Inception modules 5\n",
    "        x = self.inception5a(x)\n",
    "        x = self.inception5b(x)\n",
    "\n",
    "        #print(\"Shape before AvgPool:\", x.shape)\n",
    "\n",
    "        # AvgPool\n",
    "        x = self.b4(x)\n",
    "\n",
    "        x = x.reshape(x.shape[0], -1)\n",
    "        #x = torch.flatten(x, 1)\n",
    "        x = self.dropout(x)\n",
    "        x = self.fc(x)\n",
    "        #x = self.softmax(x)\n",
    "\n",
    "        return x\n",
    "        "
   ]
  },
  {
   "cell_type": "markdown",
   "id": "a66b3806-cc11-421e-bf97-610e857ba745",
   "metadata": {},
   "source": [
    "## Create the network and send it to the target device"
   ]
  },
  {
   "cell_type": "code",
   "execution_count": 21,
   "id": "bd8699f7-0d1f-410e-9b68-26a5eb81f9be",
   "metadata": {},
   "outputs": [
    {
     "name": "stdout",
     "output_type": "stream",
     "text": [
      "Moved to gpu\n"
     ]
    }
   ],
   "source": [
    "NUM_CLASSES = 10\n",
    "GNET = GoogLeNet(NUM_CLASSES)\n",
    "\n",
    "if torch.cuda.is_available():\n",
    "    device = torch.device('cuda')\n",
    "    GNET = GNET.to(device)\n",
    "    print(\"Moved to gpu\")\n",
    "else:\n",
    "    print(\"GPU unavailable\")"
   ]
  },
  {
   "cell_type": "markdown",
   "id": "07eeb889-9836-4ba4-89bc-1a7fd0c34186",
   "metadata": {},
   "source": [
    "## Creating an optimizer, criterion, and a scheduler"
   ]
  },
  {
   "cell_type": "code",
   "execution_count": 22,
   "id": "da4ce11a-55bb-45ab-a1b4-7279e3c9ca96",
   "metadata": {},
   "outputs": [],
   "source": [
    "# Optimizer (Adam)\n",
    "optimizer = torch.optim.Adam(GNET.parameters(), lr=LRATE)\n",
    "\n",
    "# Criterion\n",
    "criterion = nn.CrossEntropyLoss()\n",
    "\n",
    "# Scheduler\n",
    "milestones = [50, 99]\n",
    "gamma = 0.5\n",
    "scheduler =  torch.optim.lr_scheduler.MultiStepLR(optimizer, milestones = milestones, gamma = gamma)\n"
   ]
  },
  {
   "cell_type": "markdown",
   "id": "ddac6810-e248-4471-9778-22d13e88c59f",
   "metadata": {},
   "source": [
    "# Training\n",
    "Then, we are going to train our Network\n",
    "\n",
    "1. Set our network to the training mode.\n",
    "2. Initialize the train loss, total data size, and number corrected predictions. \n",
    "3. For each data in the training split\n",
    "    1. Put the data to the correct devices using .to()\n",
    "    2. Reset the gradient of the optimzier.\n",
    "    3. Feed the data forward to the google net\n",
    "    4. Use the criterion function to compute the loss term\n",
    "    5. Backpropagate the loss\n",
    "    6. Update the network parameters using the optimizier\n",
    "    7. Accumulate the training loss\n",
    "    8. Find the prediction. hint: using torch.max()\n",
    "    9. Increment the total_data size\n",
    "    10. Increment the corrected prediction\n",
    "    11. Print log"
   ]
  },
  {
   "cell_type": "code",
   "execution_count": 23,
   "id": "7a1539c4-b031-48be-ae6b-5dd796ff6f93",
   "metadata": {},
   "outputs": [],
   "source": [
    "def train(network, train_loader, optimizer, criterion, device):\n",
    "    network.train()\n",
    "\n",
    "    train_loss = 0\n",
    "    total_data_size = 0\n",
    "    correct_pred = 0\n",
    "\n",
    "    for x,y in train_loader:\n",
    "        x,y = x.to(device), y.to(device)\n",
    "        optimizer.zero_grad()\n",
    "        res = network(x)\n",
    "        loss = criterion(res,y)\n",
    "        loss.backward()\n",
    "        optimizer.step()\n",
    "        train_loss += loss.item()\n",
    "        idx, pred = torch.max(res, 1)\n",
    "        total_data_size += y.size(0)\n",
    "        correct_pred += (y == pred).sum().item()\n",
    "\n",
    "    train_accuracy = (correct_pred/total_data_size)*100\n",
    "    print(\"Training accuracy:\", train_accuracy, \"Train loss:\", train_loss)\n",
    "    return train_accuracy, train_loss"
   ]
  },
  {
   "cell_type": "markdown",
   "id": "2550d853-1a7b-4647-b96b-ef8b050dec4e",
   "metadata": {},
   "source": [
    "#  Testing\n",
    "Then, we are going to test our module\n",
    "\n",
    "1. Set our network to the test model.\n",
    "2. Initialize the test loss, total data size, and number corrected predictions. \n",
    "3. For each data in the training split, we warp it using torch.no_grad()\n",
    "    1. Put the data to the correct devices using .to()\n",
    "    2. Feed the data forward to the google net\n",
    "    3. Use the criterion function to compute the loss term\n",
    "    4. Accumulate the training loss\n",
    "    5. Find the prediciton. hint: using torch.max()\n",
    "    6. Increment the data size\n",
    "    7. Increment the corrected prediction\n",
    "    8. Print log"
   ]
  },
  {
   "cell_type": "code",
   "execution_count": 24,
   "id": "f8cfbbce-2868-45d9-a170-a10cf0a9f16b",
   "metadata": {},
   "outputs": [],
   "source": [
    "def test(network, test_loader, criterion, device):\n",
    "    network.eval()\n",
    "\n",
    "    test_loss = 0\n",
    "    total_data_size = 0\n",
    "    correct_pred = 0\n",
    "    with torch.no_grad():\n",
    "        for x,y in test_loader:\n",
    "            x,y = x.to(device), y.to(device)\n",
    "            res = network(x)\n",
    "            loss = criterion(res, y)\n",
    "            test_loss += loss.item()\n",
    "            idx, pred = torch.max(res, 1)\n",
    "            total_data_size += y.size(0)\n",
    "            correct_pred += (y == pred).sum().item()\n",
    "\n",
    "    test_accuracy = (correct_pred/total_data_size)*100\n",
    "    print(\"Test accuracy:\", test_accuracy, \"Test loss:\", test_loss)\n",
    "    return test_accuracy, test_loss\n",
    "    "
   ]
  },
  {
   "cell_type": "markdown",
   "id": "174064c0-9222-4c5d-b1b7-feeb4a8386c1",
   "metadata": {},
   "source": [
    "##  Epochs:\n",
    "For each epoch:\n",
    "1. Step the scheduler\n",
    "2. Train the model\n",
    "3. Test our model\n",
    "4. Update the accuracies\n",
    "5. Save the module at the end and print the accuracy"
   ]
  },
  {
   "cell_type": "code",
   "execution_count": 25,
   "id": "b8409886-6d24-407d-98c1-5cbc5d339908",
   "metadata": {},
   "outputs": [
    {
     "name": "stdout",
     "output_type": "stream",
     "text": [
      "Epoch number: 0\n"
     ]
    },
    {
     "name": "stderr",
     "output_type": "stream",
     "text": [
      "/home/nyuad/anaconda3/envs/shawn_lab6/lib/python3.9/site-packages/torch/optim/lr_scheduler.py:143: UserWarning: Detected call of `lr_scheduler.step()` before `optimizer.step()`. In PyTorch 1.1.0 and later, you should call them in the opposite order: `optimizer.step()` before `lr_scheduler.step()`.  Failure to do this will result in PyTorch skipping the first value of the learning rate schedule. See more details at https://pytorch.org/docs/stable/optim.html#how-to-adjust-learning-rate\n",
      "  warnings.warn(\"Detected call of `lr_scheduler.step()` before `optimizer.step()`. \"\n"
     ]
    },
    {
     "name": "stdout",
     "output_type": "stream",
     "text": [
      "Training accuracy: 36.562 Train loss: 4262.3775272369385\n",
      "Test accuracy: 51.21 Test loss: 669.6089557409286\n",
      "Epoch number: 1\n",
      "Training accuracy: 60.099999999999994 Train loss: 2827.003587156534\n",
      "Test accuracy: 68.8 Test loss: 436.1440104544163\n",
      "Epoch number: 2\n",
      "Training accuracy: 69.784 Train loss: 2203.3371872007847\n",
      "Test accuracy: 73.47 Test loss: 378.9258994311094\n",
      "Epoch number: 3\n",
      "Training accuracy: 74.53800000000001 Train loss: 1843.0474043637514\n",
      "Test accuracy: 74.22999999999999 Test loss: 375.66128328442574\n",
      "Epoch number: 4\n",
      "Training accuracy: 78.176 Train loss: 1605.4931134656072\n",
      "Test accuracy: 80.75 Test loss: 282.68813698738813\n",
      "Epoch number: 5\n",
      "Training accuracy: 80.634 Train loss: 1428.807692028582\n",
      "Test accuracy: 81.26 Test loss: 276.52149710059166\n",
      "Epoch number: 6\n",
      "Training accuracy: 82.64399999999999 Train loss: 1283.4438173249364\n",
      "Test accuracy: 82.67 Test loss: 255.99376987665892\n",
      "Epoch number: 7\n",
      "Training accuracy: 84.06400000000001 Train loss: 1169.861154511571\n",
      "Test accuracy: 84.17999999999999 Test loss: 236.951583892107\n",
      "Epoch number: 8\n",
      "Training accuracy: 85.306 Train loss: 1070.658705290407\n",
      "Test accuracy: 82.80999999999999 Test loss: 252.54930602014065\n",
      "Epoch number: 9\n",
      "Training accuracy: 86.458 Train loss: 995.4787944145501\n",
      "Test accuracy: 84.28 Test loss: 237.65699634328485\n",
      "Epoch number: 10\n",
      "Training accuracy: 87.182 Train loss: 939.1925007160753\n",
      "Test accuracy: 86.31 Test loss: 207.8316757567227\n",
      "Epoch number: 11\n",
      "Training accuracy: 88.116 Train loss: 870.1134665198624\n",
      "Test accuracy: 86.21 Test loss: 217.55535516515374\n",
      "Epoch number: 12\n",
      "Training accuracy: 89.14999999999999 Train loss: 804.0113787604496\n",
      "Test accuracy: 85.3 Test loss: 226.129234328866\n",
      "Epoch number: 13\n",
      "Training accuracy: 89.77000000000001 Train loss: 745.2052023047581\n",
      "Test accuracy: 86.11 Test loss: 221.4944406207651\n",
      "Epoch number: 14\n",
      "Training accuracy: 90.276 Train loss: 706.3479359587654\n",
      "Test accuracy: 87.28 Test loss: 209.4987886901945\n",
      "Epoch number: 15\n",
      "Training accuracy: 90.90599999999999 Train loss: 663.505631481763\n",
      "Test accuracy: 87.27000000000001 Test loss: 207.2846368253231\n",
      "Epoch number: 16\n",
      "Training accuracy: 91.314 Train loss: 632.8775534685701\n",
      "Test accuracy: 86.72 Test loss: 205.74101168103516\n",
      "Epoch number: 17\n",
      "Training accuracy: 92.048 Train loss: 572.7295612748712\n",
      "Test accuracy: 87.72999999999999 Test loss: 200.75528368121013\n",
      "Epoch number: 18\n",
      "Training accuracy: 92.45400000000001 Train loss: 552.3841746207327\n",
      "Test accuracy: 88.11 Test loss: 199.6632901597768\n",
      "Epoch number: 19\n",
      "Training accuracy: 92.74799999999999 Train loss: 534.57075946033\n",
      "Test accuracy: 88.55 Test loss: 193.5224838508293\n",
      "Epoch number: 20\n",
      "Training accuracy: 93.142 Train loss: 499.55312302242965\n",
      "Test accuracy: 89.16 Test loss: 199.90411966177635\n",
      "Epoch number: 21\n",
      "Training accuracy: 93.388 Train loss: 480.8161363385734\n",
      "Test accuracy: 88.23 Test loss: 213.64355212892406\n",
      "Epoch number: 22\n",
      "Training accuracy: 93.93 Train loss: 442.95357463299297\n",
      "Test accuracy: 89.11 Test loss: 184.21103622252122\n",
      "Epoch number: 23\n",
      "Training accuracy: 93.972 Train loss: 440.90107858181\n",
      "Test accuracy: 87.92999999999999 Test loss: 208.20519114658237\n",
      "Epoch number: 24\n",
      "Training accuracy: 94.488 Train loss: 408.9586952229729\n",
      "Test accuracy: 88.92 Test loss: 200.50194209767506\n",
      "Epoch number: 25\n",
      "Training accuracy: 94.548 Train loss: 399.97329907736275\n",
      "Test accuracy: 89.48 Test loss: 180.74663853034144\n",
      "Epoch number: 26\n",
      "Training accuracy: 94.946 Train loss: 369.01947250124067\n",
      "Test accuracy: 88.82 Test loss: 208.61898001562804\n",
      "Epoch number: 27\n",
      "Training accuracy: 95.03200000000001 Train loss: 363.9148688446512\n",
      "Test accuracy: 89.60000000000001 Test loss: 190.2651347948704\n",
      "Epoch number: 28\n",
      "Training accuracy: 95.21 Train loss: 350.40973553273943\n",
      "Test accuracy: 90.07 Test loss: 191.60633128101472\n",
      "Epoch number: 29\n",
      "Training accuracy: 95.476 Train loss: 328.4943008373375\n",
      "Test accuracy: 88.87 Test loss: 215.38650688447524\n",
      "Epoch number: 30\n",
      "Training accuracy: 95.67 Train loss: 318.7278961002012\n",
      "Test accuracy: 89.14999999999999 Test loss: 206.0172940325574\n",
      "Epoch number: 31\n",
      "Training accuracy: 95.74000000000001 Train loss: 317.5975458077446\n",
      "Test accuracy: 88.98 Test loss: 225.85344823461492\n",
      "Epoch number: 32\n",
      "Training accuracy: 95.938 Train loss: 299.51084082142916\n",
      "Test accuracy: 89.16 Test loss: 204.03585058962926\n",
      "Epoch number: 33\n",
      "Training accuracy: 96.21 Train loss: 272.68286426550185\n",
      "Test accuracy: 88.85 Test loss: 245.33318872493692\n",
      "Epoch number: 34\n",
      "Training accuracy: 96.124 Train loss: 286.2979173741187\n",
      "Test accuracy: 89.61 Test loss: 212.99278112291358\n",
      "Epoch number: 35\n",
      "Training accuracy: 96.344 Train loss: 273.3687161689013\n",
      "Test accuracy: 89.37 Test loss: 216.03489535592962\n",
      "Epoch number: 36\n",
      "Training accuracy: 96.47 Train loss: 259.0276004024927\n",
      "Test accuracy: 89.25999999999999 Test loss: 222.20556953820778\n",
      "Epoch number: 37\n",
      "Training accuracy: 96.61800000000001 Train loss: 252.32977087821928\n",
      "Test accuracy: 89.68 Test loss: 229.15405364416074\n",
      "Epoch number: 38\n",
      "Training accuracy: 96.512 Train loss: 253.85143460413383\n",
      "Test accuracy: 90.11 Test loss: 205.62970494208275\n",
      "Epoch number: 39\n",
      "Training accuracy: 96.87 Train loss: 233.8975819234547\n",
      "Test accuracy: 89.47 Test loss: 208.1192167926347\n",
      "Epoch number: 40\n",
      "Training accuracy: 96.974 Train loss: 227.16332788495492\n",
      "Test accuracy: 89.44 Test loss: 231.4447674668918\n",
      "Epoch number: 41\n",
      "Training accuracy: 96.934 Train loss: 226.3953311041696\n",
      "Test accuracy: 88.68 Test loss: 270.51748143706936\n",
      "Epoch number: 42\n",
      "Training accuracy: 97.04 Train loss: 222.20398288088109\n",
      "Test accuracy: 89.35 Test loss: 253.10609625163488\n",
      "Epoch number: 43\n",
      "Training accuracy: 97.04 Train loss: 216.16824956112214\n",
      "Test accuracy: 89.19 Test loss: 250.35051490811747\n",
      "Epoch number: 44\n",
      "Training accuracy: 97.14 Train loss: 211.50310062224708\n",
      "Test accuracy: 89.53999999999999 Test loss: 257.4908898521089\n",
      "Epoch number: 45\n",
      "Training accuracy: 97.232 Train loss: 205.7710232144509\n",
      "Test accuracy: 89.60000000000001 Test loss: 236.39115507726092\n",
      "Epoch number: 46\n",
      "Training accuracy: 97.224 Train loss: 201.45280323181555\n",
      "Test accuracy: 89.32 Test loss: 235.51452487165807\n",
      "Epoch number: 47\n",
      "Training accuracy: 97.436 Train loss: 198.06984580030257\n",
      "Test accuracy: 89.51 Test loss: 237.2324518369278\n",
      "Epoch number: 48\n",
      "Training accuracy: 97.502 Train loss: 188.4831755963378\n",
      "Test accuracy: 90.06 Test loss: 257.6722587568074\n",
      "Epoch number: 49\n",
      "Training accuracy: 98.732 Train loss: 94.36151772274752\n",
      "Test accuracy: 91.03999999999999 Test loss: 232.9991370889702\n"
     ]
    }
   ],
   "source": [
    "test_losses = []\n",
    "test_acc = []\n",
    "train_losses = []\n",
    "train_acc = []\n",
    "device = torch.device('cuda')\n",
    "\n",
    "for i in range(EPOCHS):\n",
    "    scheduler.step()\n",
    "    print(\"Epoch number:\", i)\n",
    "    train_accuracy, train_loss = train(GNET, train_loader, optimizer, criterion, device)\n",
    "    train_losses.append(train_loss)\n",
    "    train_acc.append(train_accuracy)\n",
    "\n",
    "    test_accuracy, test_loss = test(GNET, test_loader, criterion, device)\n",
    "    test_losses.append(test_loss)\n",
    "    test_acc.append(test_accuracy)\n",
    "    "
   ]
  },
  {
   "cell_type": "code",
   "execution_count": 28,
   "id": "38b83fdc-4761-4af1-8ae4-0e4d6b25c4be",
   "metadata": {},
   "outputs": [
    {
     "name": "stdout",
     "output_type": "stream",
     "text": [
      "Final Training Accuracy: 98.732\n",
      "Final Testing Accuracy: 91.03999999999999\n"
     ]
    }
   ],
   "source": [
    "print(\"Final Training Accuracy:\", train_acc[-1])\n",
    "print(\"Final Testing Accuracy:\", test_acc[-1])"
   ]
  },
  {
   "cell_type": "code",
   "execution_count": 26,
   "id": "a3790638-8e41-48ca-bf3a-c290f1403d4f",
   "metadata": {},
   "outputs": [
    {
     "data": {
      "image/png": "[encoded data removed]",
      "text/plain": [
       "<Figure size 640x480 with 1 Axes>"
      ]
     },
     "metadata": {},
     "output_type": "display_data"
    }
   ],
   "source": [
    "import matplotlib.pyplot as plt\n",
    "\n",
    "# Plot epoch number vs accumulated loss for each epoch\n",
    "plt.plot(range(0, EPOCHS), train_losses)\n",
    "plt.xlabel(\"Epoch\")\n",
    "plt.ylabel(\"Accumulated Loss (training)\")\n",
    "plt.title(\"Epoch vs Accumulated Loss (training)\")\n",
    "plt.show()"
   ]
  },
  {
   "cell_type": "code",
   "execution_count": 27,
   "id": "67165940-932f-4fb7-96cd-0781af5c2915",
   "metadata": {},
   "outputs": [
    {
     "data": {
      "image/png": "[encoded data removed]",
      "text/plain": [
       "<Figure size 640x480 with 1 Axes>"
      ]
     },
     "metadata": {},
     "output_type": "display_data"
    }
   ],
   "source": [
    "# Plot epoch number vs accumulated loss for each epoch\n",
    "plt.plot(range(0, EPOCHS), test_losses)\n",
    "plt.xlabel(\"Epoch\")\n",
    "plt.ylabel(\"Accumulated Loss (testing)\")\n",
    "plt.title(\"Epoch vs Accumulated Loss (testing)\")\n",
    "plt.show()"
   ]
  },
  {
   "cell_type": "code",
   "execution_count": null,
   "id": "ac294667-337a-4cc1-8add-c26d36081377",
   "metadata": {},
   "outputs": [],
   "source": []
  }
 ],
 "metadata": {
  "kernelspec": {
   "display_name": "Python 3 (ipykernel)",
   "language": "python",
   "name": "python3"
  },
  "language_info": {
   "codemirror_mode": {
    "name": "ipython",
    "version": 3
   },
   "file_extension": ".py",
   "mimetype": "text/x-python",
   "name": "python",
   "nbconvert_exporter": "python",
   "pygments_lexer": "ipython3",
   "version": "3.9.13"
  }
 },
 "nbformat": 4,
 "nbformat_minor": 5
}
